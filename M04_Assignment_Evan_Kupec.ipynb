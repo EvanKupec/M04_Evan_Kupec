{
 "cells": [
  {
   "cell_type": "code",
   "execution_count": 4,
   "id": "c5736e48",
   "metadata": {},
   "outputs": [
    {
     "name": "stdout",
     "output_type": "stream",
     "text": [
      "Open 9-5 daily\n"
     ]
    }
   ],
   "source": [
    "def hours():\n",
    "    print('Open 9-5 daily')\n",
    "    \n",
    "hours()"
   ]
  },
  {
   "cell_type": "markdown",
   "id": "a457cf38",
   "metadata": {},
   "source": [
    "11.1 More accurate example (except the markdown is displayed badly)\n",
    "\n",
    "#File called zoo.py\n",
    "\n",
    "def hours():\n",
    "    print('Open 9-5 daily')\n",
    "    \n",
    "#In an \"interactive interpreter\" (shell/IDLE/terminal)\n",
    "\n",
    "import zoo\n",
    "zoo.hours()"
   ]
  },
  {
   "cell_type": "markdown",
   "id": "9d0861a1",
   "metadata": {},
   "source": [
    "11.2\n",
    "\n",
    "import zoo as menagerie\n",
    "\n",
    "menagerie.hours()"
   ]
  },
  {
   "cell_type": "markdown",
   "id": "e2af0e6e",
   "metadata": {},
   "source": [
    "16.8\n",
    "\n",
    "from sqlalchemy import create_engine, select, Table, MetaData\n",
    "\n",
    "engine = create_engine('sqlite:///books.db', echo=True)\n",
    "\n",
    "metadata = MetaData()\n",
    "books_table = Table('books', metadata, autoload_with=engine)\n",
    "\n",
    "with engine.connect() as connection:\n",
    "    # Select and print the title column from the book table in alphabetical order\n",
    "    query = select([books_table.c.title]).order_by(books_table.c.title)\n",
    "    result = connection.execute(query)\n",
    "    \n",
    "    for row in result:\n",
    "        print(row['title'])"
   ]
  }
 ],
 "metadata": {
  "kernelspec": {
   "display_name": "Python 3 (ipykernel)",
   "language": "python",
   "name": "python3"
  },
  "language_info": {
   "codemirror_mode": {
    "name": "ipython",
    "version": 3
   },
   "file_extension": ".py",
   "mimetype": "text/x-python",
   "name": "python",
   "nbconvert_exporter": "python",
   "pygments_lexer": "ipython3",
   "version": "3.11.5"
  }
 },
 "nbformat": 4,
 "nbformat_minor": 5
}
